{
 "cells": [
  {
   "cell_type": "code",
   "execution_count": 1,
   "metadata": {},
   "outputs": [],
   "source": [
    "import pandas as pd\n",
    "import torch\n",
    "import json\n",
    "import numpy as np\n",
    "from esim.data_reader import data_process\n",
    "from tqdm import tqdm\n",
    "from esim.Embedding import Embedding"
   ]
  },
  {
   "cell_type": "code",
   "execution_count": 2,
   "metadata": {},
   "outputs": [],
   "source": [
    "model=torch.load('model.pkl')\n",
    "with open('word_to_indices.json') as f:    \n",
    "    word_to_indices=json.load(f)"
   ]
  },
  {
   "cell_type": "code",
   "execution_count": 3,
   "metadata": {},
   "outputs": [],
   "source": [
    "import pandas as pd\n",
    "data=pd.read_csv('../data/test_data2.csv')\n",
    "import json\n",
    "with open('../data/query_index.json','r') as f:\n",
    "    query_dic=json.load(f)\n",
    "query_list=[key for key in query_dic]"
   ]
  },
  {
   "cell_type": "code",
   "execution_count": 4,
   "metadata": {},
   "outputs": [],
   "source": [
    "def get_query_matrix(query_list,emb):\n",
    "    query_matrix=np.zeros((len(query_list),600))\n",
    "    for i,sen in tqdm(enumerate(query_list)): \n",
    "        words=sen\n",
    "        query_matrix[i:]=emb.encoded(sen)\n",
    "    return query_matrix"
   ]
  },
  {
   "cell_type": "code",
   "execution_count": 5,
   "metadata": {},
   "outputs": [
    {
     "name": "stderr",
     "output_type": "stream",
     "text": [
      "0it [00:00, ?it/s]Building prefix dict from the default dictionary ...\n",
      "Loading model from cache /tmp/jieba.cache\n",
      "Loading model cost 0.650 seconds.\n",
      "Prefix dict has been built successfully.\n",
      "/home/su/HL/FQA/ESIM/esim/utils.py:41: UserWarning: To copy construct from a tensor, it is recommended to use sourceTensor.clone().detach() or sourceTensor.clone().detach().requires_grad_(True), rather than tensor.new_tensor(sourceTensor).\n",
      "  sequences_lengths.new_tensor(torch.arange(0, len(sequences_lengths)))\n",
      "6983it [00:15, 453.58it/s]\n"
     ]
    }
   ],
   "source": [
    "emb=Embedding(model,word_to_indices,max_length=20)\n",
    "query_matrix=get_query_matrix(query_list,emb)"
   ]
  },
  {
   "cell_type": "code",
   "execution_count": 6,
   "metadata": {},
   "outputs": [
    {
     "data": {
      "text/plain": [
       "True"
      ]
     },
     "execution_count": 6,
     "metadata": {},
     "output_type": "execute_result"
    }
   ],
   "source": [
    "from annoy import AnnoyIndex\n",
    "import random                               \n",
    "t = AnnoyIndex(query_matrix.shape[1],metric=\"angular\")  \n",
    "for i in range(query_matrix.shape[0]):\n",
    "    t.add_item(i, query_matrix[i,:])\n",
    "t.build(100)"
   ]
  },
  {
   "cell_type": "code",
   "execution_count": null,
   "metadata": {},
   "outputs": [],
   "source": []
  },
  {
   "cell_type": "code",
   "execution_count": 9,
   "metadata": {},
   "outputs": [
    {
     "name": "stderr",
     "output_type": "stream",
     "text": [
      "100%|██████████| 1498/1498 [00:02<00:00, 514.17it/s]\n",
      "  3%|▎         | 50/1498 [00:00<00:02, 496.58it/s]"
     ]
    },
    {
     "name": "stdout",
     "output_type": "stream",
     "text": [
      "0.5599614300548889\n"
     ]
    },
    {
     "name": "stderr",
     "output_type": "stream",
     "text": [
      "100%|██████████| 1498/1498 [00:02<00:00, 501.15it/s]"
     ]
    },
    {
     "name": "stdout",
     "output_type": "stream",
     "text": [
      "0.6617871447644479\n"
     ]
    },
    {
     "name": "stderr",
     "output_type": "stream",
     "text": [
      "\n"
     ]
    }
   ],
   "source": [
    "def get_count_list(data,query_matrix,query_dic,query_list,n,t,is_annoy=True):\n",
    "    count_list=[]\n",
    "    for i in tqdm(data.index):\n",
    "        count=0\n",
    "        text=data.loc[i,'query']\n",
    "        ids=data.loc[i,'ids']\n",
    "        lenght=len(data[data['ids']==ids])\n",
    "        index=t.get_nns_by_vector(emb.encoded(text),n)\n",
    "        ids_list=[query_dic[query_list[i]] for i in index]\n",
    "        for j in ids_list:\n",
    "            if j==str(ids):\n",
    "                count+=1\n",
    "        count_list.append(count/lenght)\n",
    "    return count_list\n",
    "count_list=get_count_list(data,query_matrix,query_dic,query_list,10,t)\n",
    "print(sum(count_list)/len(count_list))\n",
    "count_list=get_count_list(data,query_matrix,query_dic,query_list,20,t)\n",
    "print(sum(count_list)/len(count_list))"
   ]
  },
  {
   "cell_type": "markdown",
   "metadata": {},
   "source": [
    "## 测试时间"
   ]
  },
  {
   "cell_type": "code",
   "execution_count": 31,
   "metadata": {},
   "outputs": [
    {
     "name": "stdout",
     "output_type": "stream",
     "text": [
      "0.003430604934692383\n"
     ]
    }
   ],
   "source": [
    "import time\n",
    "start=time.time()\n",
    "index=t.get_nns_by_vector(emb.encoded('萍乡为什么被称为赣西明珠的真正原因是什么,'),20)\n",
    "end=time.time()\n",
    "print(end-start)"
   ]
  },
  {
   "cell_type": "code",
   "execution_count": null,
   "metadata": {},
   "outputs": [],
   "source": []
  },
  {
   "cell_type": "code",
   "execution_count": null,
   "metadata": {},
   "outputs": [],
   "source": []
  }
 ],
 "metadata": {
  "kernelspec": {
   "display_name": "Python 3",
   "language": "python",
   "name": "python3"
  },
  "language_info": {
   "codemirror_mode": {
    "name": "ipython",
    "version": 3
   },
   "file_extension": ".py",
   "mimetype": "text/x-python",
   "name": "python",
   "nbconvert_exporter": "python",
   "pygments_lexer": "ipython3",
   "version": "3.7.1"
  }
 },
 "nbformat": 4,
 "nbformat_minor": 2
}
