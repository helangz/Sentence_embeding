{
 "cells": [
  {
   "cell_type": "code",
   "execution_count": 1,
   "metadata": {},
   "outputs": [],
   "source": [
    "import pandas as pd\n",
    "import numpy as np\n",
    "from util.process import data_process2\n",
    "from util.process import word_ngrams\n",
    "import gensim\n",
    "from util.query2vec import trans_vec\n",
    "from sklearn import metrics"
   ]
  },
  {
   "cell_type": "code",
   "execution_count": 2,
   "metadata": {},
   "outputs": [],
   "source": [
    "#数据读取\n",
    "test_data=pd.read_csv('./data/test_data.csv')"
   ]
  },
  {
   "cell_type": "markdown",
   "metadata": {},
   "source": [
    "## 读取模型(读取多个中的一个)"
   ]
  },
  {
   "cell_type": "code",
   "execution_count": 3,
   "metadata": {},
   "outputs": [],
   "source": [
    "model = gensim.models.Word2Vec.load('./model/word2vec_baike')\n",
    "embedding_dim=256"
   ]
  },
  {
   "cell_type": "code",
   "execution_count": 6,
   "metadata": {},
   "outputs": [],
   "source": [
    "model= gensim.models.KeyedVectors.load_word2vec_format('./model/cc.zh.300.vec')\n",
    "embedding_dim=300"
   ]
  },
  {
   "cell_type": "code",
   "execution_count": 28,
   "metadata": {},
   "outputs": [],
   "source": [
    "#glove\n",
    "model=gensim.models.KeyedVectors.load_word2vec_format('./model/w2v_glove.txt') \n",
    "embedding_dim=300"
   ]
  },
  {
   "cell_type": "code",
   "execution_count": null,
   "metadata": {},
   "outputs": [],
   "source": [
    "import time"
   ]
  },
  {
   "cell_type": "code",
   "execution_count": null,
   "metadata": {
    "scrolled": false
   },
   "outputs": [],
   "source": [
    "start=time.time()\n",
    "trans_vec(data_process('哪里是中国近代工业文明的主要发祥地'),model,embedding_dim\n",
    "end=time.time()\n",
    "print(end-start)"
   ]
  },
  {
   "cell_type": "markdown",
   "metadata": {},
   "source": [
    "### 验证模型"
   ]
  },
  {
   "cell_type": "code",
   "execution_count": 4,
   "metadata": {},
   "outputs": [],
   "source": [
    "def sim(x, y):\n",
    "    if x.any() and y.any():\n",
    "        res = np.array([[x[i] * y[i], x[i] * x[i], y[i] * y[i]] for i in range(len(x))])\n",
    "        cos = sum(res[:, 0]) / (np.sqrt(sum(res[:, 1])) * np.sqrt(sum(res[:, 2])))\n",
    "        return cos      \n",
    "    else:\n",
    "        return float(1) if x.any() == y.any() else float(0)\n",
    "def get_pred(texta_list,textb_list,model,embedding_dim):\n",
    "    texta_list=list(map(lambda x:trans_vec(data_process2(x),model,embedding_dim=embedding_dim),texta_list))\n",
    "    textb_list=list(map(lambda x:trans_vec(data_process2(x),model,embedding_dim=embedding_dim),textb_list))\n",
    "    y_pred=[sim(a,b) for a,b in zip(texta_list,textb_list)]\n",
    "    y_pred=np.array(y_pred)\n",
    "    y_pred[np.isnan(y_pred)]=0\n",
    "    return y_pred"
   ]
  },
  {
   "cell_type": "code",
   "execution_count": null,
   "metadata": {},
   "outputs": [],
   "source": [
    "y_pred=get_pred(list(test_data['testa']),list(test_data['testb']),model,embedding_dim)\n",
    "y_true=test_data['label']   "
   ]
  },
  {
   "cell_type": "code",
   "execution_count": 16,
   "metadata": {},
   "outputs": [
    {
     "data": {
      "text/plain": [
       "0.9342238155051089"
      ]
     },
     "execution_count": 16,
     "metadata": {},
     "output_type": "execute_result"
    }
   ],
   "source": [
    "metrics.roc_auc_score(y_true,y_pred)"
   ]
  },
  {
   "cell_type": "code",
   "execution_count": 17,
   "metadata": {},
   "outputs": [
    {
     "data": {
      "text/plain": [
       "0.7634781064037659"
      ]
     },
     "execution_count": 17,
     "metadata": {},
     "output_type": "execute_result"
    }
   ],
   "source": [
    "y_pred1=list(map(lambda x:1 if x>0.85 else 0,y_pred))\n",
    "metrics.accuracy_score(y_true,y_pred1)"
   ]
  },
  {
   "cell_type": "code",
   "execution_count": 103,
   "metadata": {},
   "outputs": [],
   "source": [
    "save_data=pd.DataFrame()\n",
    "save_data['y_tue']=y_true\n",
    "save_data['y_pred']=y_pred\n",
    "save_data.to_csv('./prob/ft_prob.csv',index=None)"
   ]
  },
  {
   "cell_type": "code",
   "execution_count": null,
   "metadata": {},
   "outputs": [],
   "source": []
  }
 ],
 "metadata": {
  "kernelspec": {
   "display_name": "Python 3",
   "language": "python",
   "name": "python3"
  },
  "language_info": {
   "codemirror_mode": {
    "name": "ipython",
    "version": 3
   },
   "file_extension": ".py",
   "mimetype": "text/x-python",
   "name": "python",
   "nbconvert_exporter": "python",
   "pygments_lexer": "ipython3",
   "version": "3.7.1"
  }
 },
 "nbformat": 4,
 "nbformat_minor": 2
}
